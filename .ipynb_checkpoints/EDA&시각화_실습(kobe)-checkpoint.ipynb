{
 "cells": [
  {
   "cell_type": "markdown",
   "metadata": {
    "id": "Xt_X-4oj-Tej"
   },
   "source": [
    "# EDA 간단한 실습 with matplotlib & seaborn"
   ]
  },
  {
   "cell_type": "markdown",
   "metadata": {
    "id": "_xsRFbDi-Teq"
   },
   "source": [
    "- 앞에서 배운 seaborn 과 matplotlib 으로 EDA를 해보겠습니다. kaggle에 있는 것과 동일합니다.(for beginner).     \n",
    "  https://www.kaggle.com/c/kobe-bryant-shot-selection/data  \n",
    "  \n",
    "- matplotlib와 seaborn 코드는 암기할 필요가 없습니다! 나중에 프로젝트 하실때 이 코드를 보면서 참고할 수 있을 정도면 됩니다.\n",
    "- matplotlib 참고사이트:\n",
    "https://datascienceschool.net/view-notebook/d0b1637803754bb083b5722c9f2209d0/"
   ]
  },
  {
   "cell_type": "markdown",
   "metadata": {
    "id": "uJIN_3P3-Teq"
   },
   "source": [
    "### 본 Kaggle Competition의 목적은 'shot_made_flag' 컬럼의 빈 값을 예측하는 것입니다.\n",
    "즉, 코비 브라이언트가 던진 슛이 성공했는지를 다른 많은 데이터들을 통해서 예측해야 합니다.  \n",
    "하지만 EDA 시간이니까 예측을 하진 않을거고, 데이터의 특징만 살펴볼 것입니다."
   ]
  },
  {
   "cell_type": "code",
   "execution_count": 2,
   "metadata": {
    "id": "O48zvvUS-Ter"
   },
   "outputs": [],
   "source": [
    "import pandas as pd\n",
    "import numpy as np\n",
    "import matplotlib.pyplot as plt\n",
    "%matplotlib inline\n",
    "# notebook을 실행한 브라우저에서 바로 그림을 볼 수 있게 해주는 코드. 버전에 따라 필요 없을 수도 있습니다.\n",
    "import seaborn as sns"
   ]
  },
  {
   "cell_type": "markdown",
   "metadata": {
    "id": "CIyPfXx2-Ter"
   },
   "source": [
    "## ① 데이터의 형태 파악하기"
   ]
  },
  {
   "cell_type": "code",
   "execution_count": 3,
   "metadata": {
    "id": "RIt1A80B-Tes"
   },
   "outputs": [],
   "source": [
    "# 한 화면에 보이는 column의 최대 개수를 늘려줘요\n",
    "pd.set_option('max_columns', 99)"
   ]
  },
  {
   "cell_type": "code",
   "execution_count": 4,
   "metadata": {
    "id": "QdjBb299-Tes",
    "outputId": "017692b9-9c27-4d81-cb38-ca8f6e8c378a"
   },
   "outputs": [
    {
     "data": {
      "text/html": [
       "<div>\n",
       "<style scoped>\n",
       "    .dataframe tbody tr th:only-of-type {\n",
       "        vertical-align: middle;\n",
       "    }\n",
       "\n",
       "    .dataframe tbody tr th {\n",
       "        vertical-align: top;\n",
       "    }\n",
       "\n",
       "    .dataframe thead th {\n",
       "        text-align: right;\n",
       "    }\n",
       "</style>\n",
       "<table border=\"1\" class=\"dataframe\">\n",
       "  <thead>\n",
       "    <tr style=\"text-align: right;\">\n",
       "      <th></th>\n",
       "      <th>action_type</th>\n",
       "      <th>combined_shot_type</th>\n",
       "      <th>game_event_id</th>\n",
       "      <th>game_id</th>\n",
       "      <th>lat</th>\n",
       "      <th>loc_x</th>\n",
       "      <th>loc_y</th>\n",
       "      <th>lon</th>\n",
       "      <th>minutes_remaining</th>\n",
       "      <th>period</th>\n",
       "      <th>playoffs</th>\n",
       "      <th>season</th>\n",
       "      <th>seconds_remaining</th>\n",
       "      <th>shot_distance</th>\n",
       "      <th>shot_made_flag</th>\n",
       "      <th>shot_type</th>\n",
       "      <th>shot_zone_area</th>\n",
       "      <th>shot_zone_basic</th>\n",
       "      <th>shot_zone_range</th>\n",
       "      <th>team_id</th>\n",
       "      <th>team_name</th>\n",
       "      <th>game_date</th>\n",
       "      <th>matchup</th>\n",
       "      <th>opponent</th>\n",
       "      <th>shot_id</th>\n",
       "    </tr>\n",
       "  </thead>\n",
       "  <tbody>\n",
       "    <tr>\n",
       "      <th>0</th>\n",
       "      <td>Jump Shot</td>\n",
       "      <td>Jump Shot</td>\n",
       "      <td>10</td>\n",
       "      <td>20000012</td>\n",
       "      <td>33.9723</td>\n",
       "      <td>167</td>\n",
       "      <td>72</td>\n",
       "      <td>-118.1028</td>\n",
       "      <td>10</td>\n",
       "      <td>1</td>\n",
       "      <td>0</td>\n",
       "      <td>2000-01</td>\n",
       "      <td>27</td>\n",
       "      <td>18</td>\n",
       "      <td>NaN</td>\n",
       "      <td>2PT Field Goal</td>\n",
       "      <td>Right Side(R)</td>\n",
       "      <td>Mid-Range</td>\n",
       "      <td>16-24 ft.</td>\n",
       "      <td>1610612747</td>\n",
       "      <td>Los Angeles Lakers</td>\n",
       "      <td>2000-10-31</td>\n",
       "      <td>LAL @ POR</td>\n",
       "      <td>POR</td>\n",
       "      <td>1</td>\n",
       "    </tr>\n",
       "    <tr>\n",
       "      <th>1</th>\n",
       "      <td>Jump Shot</td>\n",
       "      <td>Jump Shot</td>\n",
       "      <td>12</td>\n",
       "      <td>20000012</td>\n",
       "      <td>34.0443</td>\n",
       "      <td>-157</td>\n",
       "      <td>0</td>\n",
       "      <td>-118.4268</td>\n",
       "      <td>10</td>\n",
       "      <td>1</td>\n",
       "      <td>0</td>\n",
       "      <td>2000-01</td>\n",
       "      <td>22</td>\n",
       "      <td>15</td>\n",
       "      <td>0.0</td>\n",
       "      <td>2PT Field Goal</td>\n",
       "      <td>Left Side(L)</td>\n",
       "      <td>Mid-Range</td>\n",
       "      <td>8-16 ft.</td>\n",
       "      <td>1610612747</td>\n",
       "      <td>Los Angeles Lakers</td>\n",
       "      <td>2000-10-31</td>\n",
       "      <td>LAL @ POR</td>\n",
       "      <td>POR</td>\n",
       "      <td>2</td>\n",
       "    </tr>\n",
       "    <tr>\n",
       "      <th>2</th>\n",
       "      <td>Jump Shot</td>\n",
       "      <td>Jump Shot</td>\n",
       "      <td>35</td>\n",
       "      <td>20000012</td>\n",
       "      <td>33.9093</td>\n",
       "      <td>-101</td>\n",
       "      <td>135</td>\n",
       "      <td>-118.3708</td>\n",
       "      <td>7</td>\n",
       "      <td>1</td>\n",
       "      <td>0</td>\n",
       "      <td>2000-01</td>\n",
       "      <td>45</td>\n",
       "      <td>16</td>\n",
       "      <td>1.0</td>\n",
       "      <td>2PT Field Goal</td>\n",
       "      <td>Left Side Center(LC)</td>\n",
       "      <td>Mid-Range</td>\n",
       "      <td>16-24 ft.</td>\n",
       "      <td>1610612747</td>\n",
       "      <td>Los Angeles Lakers</td>\n",
       "      <td>2000-10-31</td>\n",
       "      <td>LAL @ POR</td>\n",
       "      <td>POR</td>\n",
       "      <td>3</td>\n",
       "    </tr>\n",
       "    <tr>\n",
       "      <th>3</th>\n",
       "      <td>Jump Shot</td>\n",
       "      <td>Jump Shot</td>\n",
       "      <td>43</td>\n",
       "      <td>20000012</td>\n",
       "      <td>33.8693</td>\n",
       "      <td>138</td>\n",
       "      <td>175</td>\n",
       "      <td>-118.1318</td>\n",
       "      <td>6</td>\n",
       "      <td>1</td>\n",
       "      <td>0</td>\n",
       "      <td>2000-01</td>\n",
       "      <td>52</td>\n",
       "      <td>22</td>\n",
       "      <td>0.0</td>\n",
       "      <td>2PT Field Goal</td>\n",
       "      <td>Right Side Center(RC)</td>\n",
       "      <td>Mid-Range</td>\n",
       "      <td>16-24 ft.</td>\n",
       "      <td>1610612747</td>\n",
       "      <td>Los Angeles Lakers</td>\n",
       "      <td>2000-10-31</td>\n",
       "      <td>LAL @ POR</td>\n",
       "      <td>POR</td>\n",
       "      <td>4</td>\n",
       "    </tr>\n",
       "    <tr>\n",
       "      <th>4</th>\n",
       "      <td>Driving Dunk Shot</td>\n",
       "      <td>Dunk</td>\n",
       "      <td>155</td>\n",
       "      <td>20000012</td>\n",
       "      <td>34.0443</td>\n",
       "      <td>0</td>\n",
       "      <td>0</td>\n",
       "      <td>-118.2698</td>\n",
       "      <td>6</td>\n",
       "      <td>2</td>\n",
       "      <td>0</td>\n",
       "      <td>2000-01</td>\n",
       "      <td>19</td>\n",
       "      <td>0</td>\n",
       "      <td>1.0</td>\n",
       "      <td>2PT Field Goal</td>\n",
       "      <td>Center(C)</td>\n",
       "      <td>Restricted Area</td>\n",
       "      <td>Less Than 8 ft.</td>\n",
       "      <td>1610612747</td>\n",
       "      <td>Los Angeles Lakers</td>\n",
       "      <td>2000-10-31</td>\n",
       "      <td>LAL @ POR</td>\n",
       "      <td>POR</td>\n",
       "      <td>5</td>\n",
       "    </tr>\n",
       "    <tr>\n",
       "      <th>5</th>\n",
       "      <td>Jump Shot</td>\n",
       "      <td>Jump Shot</td>\n",
       "      <td>244</td>\n",
       "      <td>20000012</td>\n",
       "      <td>34.0553</td>\n",
       "      <td>-145</td>\n",
       "      <td>-11</td>\n",
       "      <td>-118.4148</td>\n",
       "      <td>9</td>\n",
       "      <td>3</td>\n",
       "      <td>0</td>\n",
       "      <td>2000-01</td>\n",
       "      <td>32</td>\n",
       "      <td>14</td>\n",
       "      <td>0.0</td>\n",
       "      <td>2PT Field Goal</td>\n",
       "      <td>Left Side(L)</td>\n",
       "      <td>Mid-Range</td>\n",
       "      <td>8-16 ft.</td>\n",
       "      <td>1610612747</td>\n",
       "      <td>Los Angeles Lakers</td>\n",
       "      <td>2000-10-31</td>\n",
       "      <td>LAL @ POR</td>\n",
       "      <td>POR</td>\n",
       "      <td>6</td>\n",
       "    </tr>\n",
       "    <tr>\n",
       "      <th>6</th>\n",
       "      <td>Layup Shot</td>\n",
       "      <td>Layup</td>\n",
       "      <td>251</td>\n",
       "      <td>20000012</td>\n",
       "      <td>34.0443</td>\n",
       "      <td>0</td>\n",
       "      <td>0</td>\n",
       "      <td>-118.2698</td>\n",
       "      <td>8</td>\n",
       "      <td>3</td>\n",
       "      <td>0</td>\n",
       "      <td>2000-01</td>\n",
       "      <td>52</td>\n",
       "      <td>0</td>\n",
       "      <td>1.0</td>\n",
       "      <td>2PT Field Goal</td>\n",
       "      <td>Center(C)</td>\n",
       "      <td>Restricted Area</td>\n",
       "      <td>Less Than 8 ft.</td>\n",
       "      <td>1610612747</td>\n",
       "      <td>Los Angeles Lakers</td>\n",
       "      <td>2000-10-31</td>\n",
       "      <td>LAL @ POR</td>\n",
       "      <td>POR</td>\n",
       "      <td>7</td>\n",
       "    </tr>\n",
       "    <tr>\n",
       "      <th>7</th>\n",
       "      <td>Jump Shot</td>\n",
       "      <td>Jump Shot</td>\n",
       "      <td>254</td>\n",
       "      <td>20000012</td>\n",
       "      <td>34.0163</td>\n",
       "      <td>1</td>\n",
       "      <td>28</td>\n",
       "      <td>-118.2688</td>\n",
       "      <td>8</td>\n",
       "      <td>3</td>\n",
       "      <td>0</td>\n",
       "      <td>2000-01</td>\n",
       "      <td>5</td>\n",
       "      <td>2</td>\n",
       "      <td>NaN</td>\n",
       "      <td>2PT Field Goal</td>\n",
       "      <td>Center(C)</td>\n",
       "      <td>Restricted Area</td>\n",
       "      <td>Less Than 8 ft.</td>\n",
       "      <td>1610612747</td>\n",
       "      <td>Los Angeles Lakers</td>\n",
       "      <td>2000-10-31</td>\n",
       "      <td>LAL @ POR</td>\n",
       "      <td>POR</td>\n",
       "      <td>8</td>\n",
       "    </tr>\n",
       "    <tr>\n",
       "      <th>8</th>\n",
       "      <td>Jump Shot</td>\n",
       "      <td>Jump Shot</td>\n",
       "      <td>265</td>\n",
       "      <td>20000012</td>\n",
       "      <td>33.9363</td>\n",
       "      <td>-65</td>\n",
       "      <td>108</td>\n",
       "      <td>-118.3348</td>\n",
       "      <td>6</td>\n",
       "      <td>3</td>\n",
       "      <td>0</td>\n",
       "      <td>2000-01</td>\n",
       "      <td>12</td>\n",
       "      <td>12</td>\n",
       "      <td>1.0</td>\n",
       "      <td>2PT Field Goal</td>\n",
       "      <td>Left Side(L)</td>\n",
       "      <td>In The Paint (Non-RA)</td>\n",
       "      <td>8-16 ft.</td>\n",
       "      <td>1610612747</td>\n",
       "      <td>Los Angeles Lakers</td>\n",
       "      <td>2000-10-31</td>\n",
       "      <td>LAL @ POR</td>\n",
       "      <td>POR</td>\n",
       "      <td>9</td>\n",
       "    </tr>\n",
       "    <tr>\n",
       "      <th>9</th>\n",
       "      <td>Running Jump Shot</td>\n",
       "      <td>Jump Shot</td>\n",
       "      <td>294</td>\n",
       "      <td>20000012</td>\n",
       "      <td>33.9193</td>\n",
       "      <td>-33</td>\n",
       "      <td>125</td>\n",
       "      <td>-118.3028</td>\n",
       "      <td>3</td>\n",
       "      <td>3</td>\n",
       "      <td>0</td>\n",
       "      <td>2000-01</td>\n",
       "      <td>36</td>\n",
       "      <td>12</td>\n",
       "      <td>0.0</td>\n",
       "      <td>2PT Field Goal</td>\n",
       "      <td>Center(C)</td>\n",
       "      <td>In The Paint (Non-RA)</td>\n",
       "      <td>8-16 ft.</td>\n",
       "      <td>1610612747</td>\n",
       "      <td>Los Angeles Lakers</td>\n",
       "      <td>2000-10-31</td>\n",
       "      <td>LAL @ POR</td>\n",
       "      <td>POR</td>\n",
       "      <td>10</td>\n",
       "    </tr>\n",
       "  </tbody>\n",
       "</table>\n",
       "</div>"
      ],
      "text/plain": [
       "         action_type combined_shot_type  game_event_id   game_id      lat  \\\n",
       "0          Jump Shot          Jump Shot             10  20000012  33.9723   \n",
       "1          Jump Shot          Jump Shot             12  20000012  34.0443   \n",
       "2          Jump Shot          Jump Shot             35  20000012  33.9093   \n",
       "3          Jump Shot          Jump Shot             43  20000012  33.8693   \n",
       "4  Driving Dunk Shot               Dunk            155  20000012  34.0443   \n",
       "5          Jump Shot          Jump Shot            244  20000012  34.0553   \n",
       "6         Layup Shot              Layup            251  20000012  34.0443   \n",
       "7          Jump Shot          Jump Shot            254  20000012  34.0163   \n",
       "8          Jump Shot          Jump Shot            265  20000012  33.9363   \n",
       "9  Running Jump Shot          Jump Shot            294  20000012  33.9193   \n",
       "\n",
       "   loc_x  loc_y       lon  minutes_remaining  period  playoffs   season  \\\n",
       "0    167     72 -118.1028                 10       1         0  2000-01   \n",
       "1   -157      0 -118.4268                 10       1         0  2000-01   \n",
       "2   -101    135 -118.3708                  7       1         0  2000-01   \n",
       "3    138    175 -118.1318                  6       1         0  2000-01   \n",
       "4      0      0 -118.2698                  6       2         0  2000-01   \n",
       "5   -145    -11 -118.4148                  9       3         0  2000-01   \n",
       "6      0      0 -118.2698                  8       3         0  2000-01   \n",
       "7      1     28 -118.2688                  8       3         0  2000-01   \n",
       "8    -65    108 -118.3348                  6       3         0  2000-01   \n",
       "9    -33    125 -118.3028                  3       3         0  2000-01   \n",
       "\n",
       "   seconds_remaining  shot_distance  shot_made_flag       shot_type  \\\n",
       "0                 27             18             NaN  2PT Field Goal   \n",
       "1                 22             15             0.0  2PT Field Goal   \n",
       "2                 45             16             1.0  2PT Field Goal   \n",
       "3                 52             22             0.0  2PT Field Goal   \n",
       "4                 19              0             1.0  2PT Field Goal   \n",
       "5                 32             14             0.0  2PT Field Goal   \n",
       "6                 52              0             1.0  2PT Field Goal   \n",
       "7                  5              2             NaN  2PT Field Goal   \n",
       "8                 12             12             1.0  2PT Field Goal   \n",
       "9                 36             12             0.0  2PT Field Goal   \n",
       "\n",
       "          shot_zone_area        shot_zone_basic  shot_zone_range     team_id  \\\n",
       "0          Right Side(R)              Mid-Range        16-24 ft.  1610612747   \n",
       "1           Left Side(L)              Mid-Range         8-16 ft.  1610612747   \n",
       "2   Left Side Center(LC)              Mid-Range        16-24 ft.  1610612747   \n",
       "3  Right Side Center(RC)              Mid-Range        16-24 ft.  1610612747   \n",
       "4              Center(C)        Restricted Area  Less Than 8 ft.  1610612747   \n",
       "5           Left Side(L)              Mid-Range         8-16 ft.  1610612747   \n",
       "6              Center(C)        Restricted Area  Less Than 8 ft.  1610612747   \n",
       "7              Center(C)        Restricted Area  Less Than 8 ft.  1610612747   \n",
       "8           Left Side(L)  In The Paint (Non-RA)         8-16 ft.  1610612747   \n",
       "9              Center(C)  In The Paint (Non-RA)         8-16 ft.  1610612747   \n",
       "\n",
       "            team_name   game_date    matchup opponent  shot_id  \n",
       "0  Los Angeles Lakers  2000-10-31  LAL @ POR      POR        1  \n",
       "1  Los Angeles Lakers  2000-10-31  LAL @ POR      POR        2  \n",
       "2  Los Angeles Lakers  2000-10-31  LAL @ POR      POR        3  \n",
       "3  Los Angeles Lakers  2000-10-31  LAL @ POR      POR        4  \n",
       "4  Los Angeles Lakers  2000-10-31  LAL @ POR      POR        5  \n",
       "5  Los Angeles Lakers  2000-10-31  LAL @ POR      POR        6  \n",
       "6  Los Angeles Lakers  2000-10-31  LAL @ POR      POR        7  \n",
       "7  Los Angeles Lakers  2000-10-31  LAL @ POR      POR        8  \n",
       "8  Los Angeles Lakers  2000-10-31  LAL @ POR      POR        9  \n",
       "9  Los Angeles Lakers  2000-10-31  LAL @ POR      POR       10  "
      ]
     },
     "execution_count": 4,
     "metadata": {},
     "output_type": "execute_result"
    }
   ],
   "source": [
    "# csv 파일을 읽어와서 pandas dataframe으로 만들어요\n",
    "df = pd.read_csv('kobe.csv')\n",
    "df.head(10)"
   ]
  },
  {
   "cell_type": "code",
   "execution_count": 5,
   "metadata": {
    "colab": {
     "base_uri": "https://localhost:8080/",
     "height": 189
    },
    "id": "kpO6B2YB-Tet",
    "outputId": "67bb7a5f-954c-4e41-fa00-174367418edb"
   },
   "outputs": [
    {
     "data": {
      "text/plain": [
       "(30697, 25)"
      ]
     },
     "execution_count": 5,
     "metadata": {},
     "output_type": "execute_result"
    }
   ],
   "source": [
    "# (row의 개수, column의 개수)\n",
    "df.shape"
   ]
  },
  {
   "cell_type": "markdown",
   "metadata": {
    "id": "bezLrLKu-Teu"
   },
   "source": [
    "## ② 각 변수 파악하기\n",
    "\n",
    "* action_type\n",
    "* combined_shot_type\n",
    "* game_event_id\n",
    "* game_id\n",
    "* lat\n",
    "* loc_x\n",
    "* loc_y\n",
    "* lon\n",
    "* minutes_remaining\n",
    "* period\n",
    "* playoffs\n",
    "* season \n",
    "* seconds_remaining\n",
    "* shot_distance\n",
    "* shot_made_flag (this is what you are predicting)\n",
    "* shot_type\n",
    "* shot_zone_area\n",
    "* shot_zone_basic\n",
    "* shot_zone_range\n",
    "* team_id\n",
    "* team_name\n",
    "* game_date\n",
    "* matchup\n",
    "* opponent\n",
    "* shot_id\n",
    "\n",
    "변수가 너무 많아요! 필요 없는 변수들은 뭐가 있을지 찾아봅시다"
   ]
  },
  {
   "cell_type": "code",
   "execution_count": 6,
   "metadata": {
    "id": "BPxvZNsX-Teu"
   },
   "outputs": [],
   "source": [
    "not_needed = []\n",
    "# 지우고 싶은 변수 넣어서 한 번에 지웁시다"
   ]
  },
  {
   "cell_type": "markdown",
   "metadata": {
    "id": "qa5f4Ini-Teu"
   },
   "source": [
    "#### Action type and combined shot type\n",
    "\n",
    "코비가 던진 슛의 타입에 대한 정보입니다."
   ]
  },
  {
   "cell_type": "code",
   "execution_count": 7,
   "metadata": {
    "id": "k9Hjk_C6-Teu",
    "outputId": "1af0e6e4-0f51-4c5d-b374-0904732511a5",
    "scrolled": false
   },
   "outputs": [
    {
     "name": "stdout",
     "output_type": "stream",
     "text": [
      "['Jump Shot' 'Driving Dunk Shot' 'Layup Shot' 'Running Jump Shot'\n",
      " 'Driving Layup Shot' 'Reverse Layup Shot' 'Reverse Dunk Shot'\n",
      " 'Slam Dunk Shot' 'Turnaround Jump Shot' 'Tip Shot' 'Running Hook Shot'\n",
      " 'Alley Oop Dunk Shot' 'Dunk Shot' 'Alley Oop Layup shot'\n",
      " 'Running Dunk Shot' 'Driving Finger Roll Shot' 'Running Layup Shot'\n",
      " 'Finger Roll Shot' 'Fadeaway Jump Shot' 'Follow Up Dunk Shot' 'Hook Shot'\n",
      " 'Turnaround Hook Shot' 'Running Tip Shot' 'Jump Hook Shot'\n",
      " 'Running Finger Roll Shot' 'Jump Bank Shot' 'Turnaround Finger Roll Shot'\n",
      " 'Hook Bank Shot' 'Driving Hook Shot' 'Running Reverse Layup Shot'\n",
      " 'Driving Finger Roll Layup Shot' 'Fadeaway Bank shot' 'Pullup Jump shot'\n",
      " 'Finger Roll Layup Shot' 'Turnaround Fadeaway shot'\n",
      " 'Driving Reverse Layup Shot' 'Driving Slam Dunk Shot'\n",
      " 'Step Back Jump shot' 'Reverse Slam Dunk Shot' 'Turnaround Bank shot'\n",
      " 'Running Finger Roll Layup Shot' 'Floating Jump shot'\n",
      " 'Putback Slam Dunk Shot' 'Running Bank shot' 'Driving Bank shot'\n",
      " 'Putback Layup Shot' 'Driving Jump shot' 'Putback Dunk Shot'\n",
      " 'Pullup Bank shot' 'Running Slam Dunk Shot' 'Cutting Layup Shot'\n",
      " 'Driving Floating Jump Shot' 'Running Pull-Up Jump Shot' 'Tip Layup Shot'\n",
      " 'Driving Floating Bank Jump Shot' 'Turnaround Fadeaway Bank Jump Shot'\n",
      " 'Cutting Finger Roll Layup Shot']\n",
      "\n",
      "['Jump Shot' 'Dunk' 'Layup' 'Tip Shot' 'Hook Shot' 'Bank Shot']\n"
     ]
    }
   ],
   "source": [
    "# df.unique : 겹치는 원소들 하나로 취급, df 안에 어떤 원소가 있는지 볼 수 있음\n",
    "print(df['action_type'].unique()) \n",
    "print()\n",
    "print(df['combined_shot_type'].unique())"
   ]
  },
  {
   "cell_type": "markdown",
   "metadata": {
    "id": "i6BqjG3D-Tev"
   },
   "source": [
    "#### Game event and game IDs\n",
    "\n",
    "경기의 고유번호와, 이 경기에서 몇번째로 일어난 이벤트인지에 대한 정보입니다."
   ]
  },
  {
   "cell_type": "code",
   "execution_count": 8,
   "metadata": {
    "id": "Gpi5Hqv1-Tev"
   },
   "outputs": [],
   "source": [
    "not_needed += ['game_event_id', 'game_id']\n",
    "# 슛 성공여부 판단에 불필요해보여요\n",
    "# 물론 사용할 수도 있지만, 여기서는 지우겠습니다"
   ]
  },
  {
   "cell_type": "markdown",
   "metadata": {
    "id": "Uk14dVvW-Tev"
   },
   "source": [
    "#### loc_x, loc_y, lat, lon\n",
    "\n",
    "슛을 쏜 위치에 대한 정보입니다."
   ]
  },
  {
   "cell_type": "code",
   "execution_count": null,
   "metadata": {
    "id": "Nlv2FozL-Tev",
    "outputId": "77a9d538-8409-488b-fa38-c9a58edb1fdd"
   },
   "outputs": [],
   "source": [
    "sns.set_style('whitegrid') # 격자를 만들어줘요. 이 코드가 없으면 아래 그래프들도 격자 없이 나와요\n",
    "sns.pairplot(df, vars=['loc_x', 'loc_y', 'lat', 'lon'], hue='shot_made_flag')"
   ]
  },
  {
   "cell_type": "code",
   "execution_count": null,
   "metadata": {
    "id": "3ea2Haw4-Tew"
   },
   "outputs": [],
   "source": [
    "not_needed += ['lon', 'lat']\n",
    "# lon & lat 의 정보가 loc_x & loc_y 의 정보와 겹치기 때문에 삭제\n",
    "# 이처럼 상관관계가 강한 변수들은 불필요하기 때문에 삭제하면 좋습니다"
   ]
  },
  {
   "cell_type": "markdown",
   "metadata": {
    "id": "c4kzOlUy-Tew"
   },
   "source": [
    "#### Minutes and seconds remaining\n",
    "\n",
    "지금 슛이 이번 쿼터에서 몇분 몇초 남았을 때 쏜 슛인지에 대한 정보입니다."
   ]
  },
  {
   "cell_type": "code",
   "execution_count": null,
   "metadata": {
    "id": "LbOEj5qk-Tew",
    "outputId": "cd5b9638-90fc-412b-bcbb-f7b2920f2ec7"
   },
   "outputs": [],
   "source": [
    "# NBA는 한쿼터에 12분입니다. 따라서 남은 분이 0~11분인 것을 볼 수 있습니다.\n",
    "\n",
    "print(sorted(df[\"minutes_remaining\"].unique()))\n",
    "print(sorted(df[\"seconds_remaining\"].unique()))"
   ]
  },
  {
   "cell_type": "code",
   "execution_count": null,
   "metadata": {
    "id": "7aAXYnER-Tew"
   },
   "outputs": [],
   "source": [
    "df['time_remaining'] = 60 * df.loc[:, 'minutes_remaining'] + df.loc[:, 'seconds_remaining']\n",
    "# 분과 초를 합쳐서 time_remaining 으로 새로운 변수를 만들었습니다.\n",
    "# 이처럼 새로운 변수를 만들어서 모델의 성능을 높이기도 합니다."
   ]
  },
  {
   "cell_type": "code",
   "execution_count": null,
   "metadata": {
    "id": "QmZkI1t4-Tex"
   },
   "outputs": [],
   "source": [
    "not_needed.extend(['minutes_remaining', 'seconds_remaining'])"
   ]
  },
  {
   "cell_type": "markdown",
   "metadata": {
    "id": "3kxIBo8Y-Tex"
   },
   "source": [
    "#### Period\n",
    "지금이 몇쿼터인지에 대한 정보입니다.  \n",
    "5 이상인 것은 연장전일거에요"
   ]
  },
  {
   "cell_type": "code",
   "execution_count": null,
   "metadata": {
    "id": "stQtoJP1-Tex",
    "outputId": "fabadb41-6bb0-45c0-8363-e18afeab625b"
   },
   "outputs": [],
   "source": [
    "df['period'].unique()"
   ]
  },
  {
   "cell_type": "markdown",
   "metadata": {
    "id": "PKC7RnIX-Tex"
   },
   "source": [
    "#### Playoffs\n",
    "\n",
    "이 경기가 플레이오프 경기인지 아닌지에 대한 정보입니다."
   ]
  },
  {
   "cell_type": "code",
   "execution_count": null,
   "metadata": {
    "id": "G2MuFpfh-Tey",
    "outputId": "78e218aa-78ba-49f7-cfb4-a8f70bb33550"
   },
   "outputs": [],
   "source": [
    "df['playoffs'].unique()"
   ]
  },
  {
   "cell_type": "markdown",
   "metadata": {
    "collapsed": true,
    "id": "mPFrmFlf-Tey"
   },
   "source": [
    "#### Shot made flag\n",
    "종속변수입니다! 골을 넣으셨나요?"
   ]
  },
  {
   "cell_type": "code",
   "execution_count": null,
   "metadata": {
    "id": "M1GDEulF-Tey",
    "outputId": "c5d66ed0-739c-46aa-c20e-5dd0109a76a7"
   },
   "outputs": [],
   "source": [
    "df['shot_made_flag'].unique()"
   ]
  },
  {
   "cell_type": "code",
   "execution_count": null,
   "metadata": {
    "id": "14ZKieeG-Tey",
    "outputId": "07dff8a7-7e9e-4833-86bb-cfa9904879e3"
   },
   "outputs": [],
   "source": [
    "# 총 5000개의 슛 정보를 맞추는 문제였어요. 그래서 nan 데이터가 5000개입니다.\n",
    "df['shot_made_flag'].isnull().sum()"
   ]
  },
  {
   "cell_type": "markdown",
   "metadata": {
    "collapsed": true,
    "id": "e8gpbfrl-Tez"
   },
   "source": [
    "#### Season\n",
    "이 경기가 어떤 시즌에 치러진 경기인지에 대한 정보입니다."
   ]
  },
  {
   "cell_type": "code",
   "execution_count": null,
   "metadata": {
    "id": "b180ND82-Tez",
    "outputId": "cbbd90ff-2277-42a6-e129-f9c17941a8f5"
   },
   "outputs": [],
   "source": [
    "df[\"season\"].unique()"
   ]
  },
  {
   "cell_type": "code",
   "execution_count": null,
   "metadata": {
    "id": "3j47ggjP-Tez",
    "scrolled": true
   },
   "outputs": [],
   "source": [
    "# object 변수를 numeric 변수로 바꿔줍시다.\n",
    "# 농구시즌은 겨울-봄 2년에 걸쳐 있지만 앞의 년도로도 다 구분할 수 있겠죠? 그러므로 앞의 년도만 남깁시다.\n",
    "df['season'] = df['season'].apply(lambda x: x[:4])\n",
    "df['season'] = pd.to_numeric(df['season'])"
   ]
  },
  {
   "cell_type": "code",
   "execution_count": null,
   "metadata": {
    "id": "Ow7Ci27K-Te0",
    "outputId": "bd176797-925f-49b7-982f-d5d398b08210"
   },
   "outputs": [],
   "source": [
    "df[\"season\"].unique() # 데이터 타입이 int64로 바뀐 것을 확인할 수 있어요"
   ]
  },
  {
   "cell_type": "markdown",
   "metadata": {
    "collapsed": true,
    "id": "H84rxEGY-Te0"
   },
   "source": [
    "#### Shot distance\n",
    "슛을 얼마나 멀리서 쐈는지에 대한 정보입니다."
   ]
  },
  {
   "cell_type": "code",
   "execution_count": null,
   "metadata": {
    "id": "5bUrJcTo-Te0",
    "outputId": "1be3e5a6-ae33-460d-e5cb-c069280d8994"
   },
   "outputs": [],
   "source": [
    "print(sorted(df['shot_distance'].unique()))"
   ]
  },
  {
   "cell_type": "code",
   "execution_count": null,
   "metadata": {
    "id": "GULoQwFA-Te0",
    "outputId": "e451b35a-b0c0-4914-e0aa-c01e5edfe338"
   },
   "outputs": [],
   "source": [
    "# 정수 근삿값이네요.\n",
    "# 우리에게는 x y 좌표가 있으므로 더 정확한 거리를 구할 수 있습니다.\n",
    "dist = pd.DataFrame({'true_dist': np.sqrt((df['loc_x']/10)**2 + (df['loc_y']/10)**2), \n",
    "                     'shot_dist': df['shot_distance']})\n",
    "dist.head(10)"
   ]
  },
  {
   "cell_type": "code",
   "execution_count": null,
   "metadata": {
    "id": "Lp5yBTai-Te0"
   },
   "outputs": [],
   "source": [
    "df['shot_distance_'] = dist['true_dist']\n",
    "not_needed.append('shot_distance')\n",
    "# 조금 더 정확한 값으로 바꿔줍시다."
   ]
  },
  {
   "cell_type": "markdown",
   "metadata": {
    "collapsed": true,
    "id": "pAuivMS0-Te1"
   },
   "source": [
    "#### Shot type\n",
    "2점슛인지 3점슛인지에 대한 정보입니다."
   ]
  },
  {
   "cell_type": "code",
   "execution_count": null,
   "metadata": {
    "id": "Y7qaNVVl-Te1",
    "outputId": "787d77ef-aa07-4095-fca5-bcea23f964cd"
   },
   "outputs": [],
   "source": [
    "df['shot_type'].unique()"
   ]
  },
  {
   "cell_type": "code",
   "execution_count": null,
   "metadata": {
    "id": "n7om0Y32-Te1"
   },
   "outputs": [],
   "source": [
    "df['3pt_goal'] = df['shot_type'].str.contains('3PT').astype('int')\n",
    "# 3점슛은 1로 2점슛은 0으로 표시\n",
    "# 모델에 넣기 위해서 이처럼 카데고리를 실수로 바꿔줍니다 (방법은 매우 다양합니다)\n",
    "not_needed.append('shot_type')"
   ]
  },
  {
   "cell_type": "code",
   "execution_count": null,
   "metadata": {
    "id": "REG8aY8A-Te1",
    "outputId": "4e14a564-0f3f-471a-9db8-5c76c02d1e5b"
   },
   "outputs": [],
   "source": [
    "df['3pt_goal'].tail()"
   ]
  },
  {
   "cell_type": "markdown",
   "metadata": {
    "collapsed": true,
    "id": "0MMXEccS-Te1"
   },
   "source": [
    "#### Shot zone: range, area, basic"
   ]
  },
  {
   "cell_type": "code",
   "execution_count": null,
   "metadata": {
    "id": "2RTc60aD-Te2",
    "outputId": "13db7c8a-f6bc-43f3-cf15-bab0d80bad9c"
   },
   "outputs": [],
   "source": [
    "print(df['shot_zone_range'].unique())\n",
    "print(df['shot_zone_area'].unique())\n",
    "print(df['shot_zone_basic'].unique())"
   ]
  },
  {
   "cell_type": "code",
   "execution_count": null,
   "metadata": {
    "id": "a07fak1H-Te2"
   },
   "outputs": [],
   "source": [
    "not_needed.append('shot_zone_range')\n",
    "# shot_distance와 겹치기에 삭제\n",
    "# 이처럼 겹치는 정보의 변수들은 삭제하기도 합니다"
   ]
  },
  {
   "cell_type": "code",
   "execution_count": null,
   "metadata": {
    "id": "ClC1M2jz-Te2",
    "outputId": "19d782a6-23bd-4311-ac85-96798e1989cc"
   },
   "outputs": [],
   "source": [
    "# 이처럼 seaborn으로 그릴 수 없는 커스터마이징한 그래프를 matplotlib으로 그립니다\n",
    "# 지금은 이해하실 필요는 없고 '오~ 이런게 있구나' 하시면 됩니다 (생각보다 복잡한 그래프는 아님^^)\n",
    "## 이라고 윗기수 분들이 적어두셨네요ㅎㅎ; \n",
    "\n",
    "area_group = df.groupby('shot_zone_area')\n",
    "basic_group = df.groupby('shot_zone_basic')\n",
    "\n",
    "plt.subplots(1, 2, figsize=(15, 7), sharey=True)\n",
    "colors = list('rgbcmyk')\n",
    "\n",
    "plt.subplot(121)\n",
    "plt.ylim(500, -50)\n",
    "plt.title('shot_zone_area')\n",
    "for i, (_, area) in enumerate(area_group):\n",
    "    plt.scatter(area['loc_x'], area['loc_y'], alpha=0.1, color=colors[i])\n",
    "    \n",
    "plt.subplot(122)\n",
    "plt.ylim(500, -50)\n",
    "plt.title('shot_zone_basic')\n",
    "for i, (_, basic) in enumerate(basic_group):\n",
    "    plt.scatter(basic['loc_x'], basic['loc_y'], alpha=0.1, color=colors[i])\n",
    "\n",
    "# area랑 basic을 구역별로 다른 색깔로 넣어서 그래프로 표현한 것입니다! 각 점 하나하나가 슛을 쏜 위치입니다~"
   ]
  },
  {
   "cell_type": "markdown",
   "metadata": {
    "collapsed": true,
    "id": "lIq9d4jD-Te2"
   },
   "source": [
    "#### Team ID and name\n",
    "코비가 뛴 팀에 대한 정보인데 코비는 21년 내내 한 팀에서만 뛰어서 분석에는 쓸모가 없겠죠?"
   ]
  },
  {
   "cell_type": "code",
   "execution_count": null,
   "metadata": {
    "id": "zdE2n5N8-Te3",
    "outputId": "cee8b9c6-f583-4f1c-d7b4-6191c6e285f3"
   },
   "outputs": [],
   "source": [
    "# 이렇게 LA 레이커스 딱 한팀만 검색됩니다.\n",
    "print(df['team_id'].unique())\n",
    "print(df['team_name'].unique())"
   ]
  },
  {
   "cell_type": "code",
   "execution_count": null,
   "metadata": {
    "id": "7T9jV0zJ-Te3"
   },
   "outputs": [],
   "source": [
    "# 필요없는 변수 삭제\n",
    "not_needed.extend(['team_id', 'team_name'])"
   ]
  },
  {
   "cell_type": "markdown",
   "metadata": {
    "collapsed": true,
    "id": "eQTnNzBq-Te3"
   },
   "source": [
    "#### Game date\n",
    "경기 날짜가 몇 월 며칠인지에 대한 정보입니다."
   ]
  },
  {
   "cell_type": "code",
   "execution_count": null,
   "metadata": {
    "id": "3RqrDyrW-Te3",
    "outputId": "91fc28e3-e60e-468c-9b50-4d9e1913a4dd"
   },
   "outputs": [],
   "source": [
    "df['game_date'].head()"
   ]
  },
  {
   "cell_type": "code",
   "execution_count": null,
   "metadata": {
    "id": "OtdH_BNJ-Te3"
   },
   "outputs": [],
   "source": [
    "df['game_date'] = pd.to_datetime(df['game_date'])\n",
    "df['game_year'] = df['game_date'].dt.year # pandas에서는 datetime을 지원해서 뒤에 이렇게 붙이는 것만으로 년도가 뽑힙니다\n",
    "df['game_month'] = df['game_date'].dt.month\n",
    "df['game_day'] = df['game_date'].dt.dayofweek\n",
    "\n",
    "not_needed.append('game_date')\n",
    "\n",
    "# game_date를 년월일로 구분해서 따로따로 넣어주었습니다."
   ]
  },
  {
   "cell_type": "markdown",
   "metadata": {
    "collapsed": true,
    "id": "L88c_gtq-Te4"
   },
   "source": [
    "#### Matchup and opponent\n",
    "상대방에 대한 정보인데, matchup이 @면 원정경기, vs.면 홈경기입니다."
   ]
  },
  {
   "cell_type": "code",
   "execution_count": null,
   "metadata": {
    "id": "wIni-B-C-Te4",
    "outputId": "d80e1290-447f-4c91-be9c-c6fc9484be23"
   },
   "outputs": [],
   "source": [
    "df[['matchup','opponent']]"
   ]
  },
  {
   "cell_type": "code",
   "execution_count": null,
   "metadata": {
    "id": "TPnjem5V-Te4"
   },
   "outputs": [],
   "source": [
    "# 마찬가지로 object 변수를 int로 바꿔줍니다.\n",
    "# vs가 포함되는 문자, 즉 홍경기를 찾아서 1로, 아닌 경기를 0으로 바꿉니다.\n",
    "df['home_game'] = df['matchup'].str.contains('vs.').astype(int)\n",
    "not_needed.append('matchup')"
   ]
  },
  {
   "cell_type": "code",
   "execution_count": null,
   "metadata": {
    "id": "8z34CqNH-Te4",
    "outputId": "f2eedae7-101d-43e0-ffba-e79da5d20e44"
   },
   "outputs": [],
   "source": [
    "df[['matchup','home_game']]"
   ]
  },
  {
   "cell_type": "markdown",
   "metadata": {
    "collapsed": true,
    "id": "UPXOmap_-Te4"
   },
   "source": [
    "#### Shot ID\n",
    "이 슛이 코비가 선수 생활하면서 몇 번째로 쏜 슛인지에 대한 정보입니다.\n"
   ]
  },
  {
   "cell_type": "code",
   "execution_count": null,
   "metadata": {
    "id": "yX4CFdRt-Te5",
    "outputId": "a4e59dae-335b-4352-a9e1-460460a645a9"
   },
   "outputs": [],
   "source": [
    "df['shot_id']"
   ]
  },
  {
   "cell_type": "code",
   "execution_count": null,
   "metadata": {
    "id": "FUWsi9bz-Te5"
   },
   "outputs": [],
   "source": [
    "# shot_id를 이 df의 인덱스로 설정해줍니다.\n",
    "df.set_index('shot_id', inplace=True)"
   ]
  },
  {
   "cell_type": "code",
   "execution_count": null,
   "metadata": {
    "id": "3qOtTt-a-Te5"
   },
   "outputs": [],
   "source": [
    "df = df.drop(not_needed, axis=1) # 안 쓸 데이터들 날리기"
   ]
  },
  {
   "cell_type": "code",
   "execution_count": null,
   "metadata": {
    "id": "xJDWAYAT-Te5",
    "outputId": "370f9d9e-361c-4582-b9c7-85e066599efd"
   },
   "outputs": [],
   "source": [
    "# 샘플 10개만 뽑아서 출력해봅시다.\n",
    "pd.set_option('display.max_columns', None)\n",
    "random_sample = df.take(np.random.permutation(len(df))[:10])\n",
    "random_sample.head(10)"
   ]
  },
  {
   "cell_type": "markdown",
   "metadata": {
    "id": "VnV4bJD7-Te5"
   },
   "source": [
    "## ③ 결측치 확인하기"
   ]
  },
  {
   "cell_type": "code",
   "execution_count": null,
   "metadata": {
    "id": "RM7ktgSj-Te6",
    "outputId": "0e75f85a-897c-40e9-d49b-db0cc61e30c0"
   },
   "outputs": [],
   "source": [
    "# kaggle에서 결측치가 없는 아주 깔끔한 데이터를 줬어요\n",
    "df.isnull().sum()"
   ]
  },
  {
   "cell_type": "code",
   "execution_count": null,
   "metadata": {
    "id": "tniunFmK-Te6",
    "outputId": "950f034c-4ac1-48ed-c271-a393c756b382"
   },
   "outputs": [],
   "source": [
    "# shot_made_flag가 NaN인 데이터, 즉 맞춰야 할 데이터를 분리해줍시다.\n",
    "submission_data = df[df['shot_made_flag'].isnull()]\n",
    "submission_data = submission_data.drop('shot_made_flag', 1) # 0이면 row에서, 1이면 column에서 해당하는 것을 지우겠다는 의미입니다.\n",
    "submission_data.shape"
   ]
  },
  {
   "cell_type": "code",
   "execution_count": null,
   "metadata": {
    "id": "caVxOnkQ-Te6",
    "outputId": "71f79706-7d40-4a8e-d352-4dd847913bf8"
   },
   "outputs": [],
   "source": [
    "# 5000개 뺀 나머지\n",
    "data = df[df['shot_made_flag'].notnull()]\n",
    "data.shape"
   ]
  },
  {
   "cell_type": "markdown",
   "metadata": {
    "id": "HDMP7Qtz-Te7"
   },
   "source": [
    "## ④ 종속변수의 분포 확인하기"
   ]
  },
  {
   "cell_type": "code",
   "execution_count": null,
   "metadata": {
    "id": "YmLcetCL-Te7",
    "outputId": "c6bc4aae-e516-40b0-f8ea-ca7497da3cfa",
    "scrolled": true
   },
   "outputs": [],
   "source": [
    "# kobe의 슛 성공 횟수\n",
    "sns.countplot(x='shot_made_flag', data=data)"
   ]
  },
  {
   "cell_type": "code",
   "execution_count": null,
   "metadata": {
    "id": "lDcfR6PT-Te7",
    "outputId": "66d27547-db2b-4fa6-f7dc-f13e2aae8b56",
    "scrolled": true
   },
   "outputs": [],
   "source": [
    "data['shot_made_flag'].value_counts() / data['shot_made_flag'].shape"
   ]
  },
  {
   "cell_type": "markdown",
   "metadata": {
    "id": "lsLLRQNq-Te8"
   },
   "source": [
    "## ⑤ 다른 변수들의 분포 확인하기"
   ]
  },
  {
   "cell_type": "markdown",
   "metadata": {
    "id": "xaaQMX4Y-Te8"
   },
   "source": [
    "### time_remaining ( 남은 시간 )"
   ]
  },
  {
   "cell_type": "code",
   "execution_count": null,
   "metadata": {
    "colab": {
     "base_uri": "https://localhost:8080/",
     "height": 226
    },
    "id": "KPHnq_IR-Te8",
    "outputId": "2308ad3b-793a-4987-a1e1-86881e794ab3"
   },
   "outputs": [],
   "source": [
    "# time에 대한 hist 그래프\n",
    "data['time_remaining'].plot(kind='hist', bins=24, xlim=(720, 0), figsize=(12,6),\n",
    "                            title='Attempts made over time\\n(seconds to the end of period)')\n",
    "data['time_remaining']"
   ]
  },
  {
   "cell_type": "code",
   "execution_count": null,
   "metadata": {
    "colab": {
     "base_uri": "https://localhost:8080/",
     "height": 226
    },
    "id": "ET9_dkII-Te8",
    "outputId": "bd772454-f19e-4f88-87e6-dc5b8f811271"
   },
   "outputs": [],
   "source": [
    "last_30 = data[data['time_remaining'] < 30]\n",
    "last_30['shot_made_flag'].value_counts() / last_30['shot_made_flag'].shape\n",
    "# 30초 남았을 때 쫄려서 막 던졌나봐요\n",
    "# last_30처럼 할당 이름을 이해하기 쉽게 만드는 것 중요!"
   ]
  },
  {
   "cell_type": "code",
   "execution_count": null,
   "metadata": {
    "id": "tkpgvcpt-Te9"
   },
   "outputs": [],
   "source": [
    "# 2분 이하 남았을 때만 뽑아서 4초 간격으로 히스토그램을 그려봤어요\n",
    "last_2min  = data[data['time_remaining'] <= 120]\n",
    "last_2min['time_remaining'].plot(kind='hist', bins=30, xlim=(120, 0), figsize=(12,6),\n",
    "                            title='Attempts made over time\\n(seconds to the end of period)')"
   ]
  },
  {
   "cell_type": "code",
   "execution_count": null,
   "metadata": {
    "id": "d_Qsakjn-Te9"
   },
   "outputs": [],
   "source": [
    "last_30['time_remaining'].plot(kind='hist', bins=10, xlim=(30, 0), figsize=(12,6),\n",
    "                            title='Attempts made over time\\n(seconds to the end of period)')"
   ]
  },
  {
   "cell_type": "code",
   "execution_count": null,
   "metadata": {
    "id": "FlKrmEEt-Te9"
   },
   "outputs": [],
   "source": [
    "# 5초이하 남았을 때, 슛 위치 분포 그래프(성공, 실패에 따라 나눔)\n",
    "# 확실히 실패한 경우를 보면 멀리서 던진 경우가 눈에 띄네요\n",
    "last_5sec_misses = data[(data['time_remaining'] <= 5) & (data['shot_made_flag'] == 0)]\n",
    "last_5sec_scores = data[(data['time_remaining'] <= 5) & (data['shot_made_flag'] == 1)]\n",
    "\n",
    "\n",
    "fig, (ax1, ax2) = plt.subplots(1, 2, sharey=True, figsize=(12,7))\n",
    "ax1.set_ylim(800, -50)\n",
    "\n",
    "sns.regplot(x='loc_x', y='loc_y', data=last_5sec_misses, fit_reg=False, ax=ax1, color='r')\n",
    "sns.regplot(x='loc_x', y='loc_y', data=last_5sec_scores, fit_reg=False, ax=ax2, color='g')"
   ]
  },
  {
   "cell_type": "markdown",
   "metadata": {
    "id": "yoi0YNIm-Te9"
   },
   "source": [
    "### period"
   ]
  },
  {
   "cell_type": "code",
   "execution_count": null,
   "metadata": {
    "id": "7YNshP-Y-Te-"
   },
   "outputs": [],
   "source": [
    "# period에 따라 슛 count\n",
    "plt.figure(figsize=(12,6))\n",
    "sns.countplot(x=\"period\", hue=\"shot_made_flag\", data=data)"
   ]
  },
  {
   "cell_type": "code",
   "execution_count": null,
   "metadata": {
    "id": "EgsNMlWf-Te-"
   },
   "outputs": [],
   "source": [
    "# period_accuracy를 파악\n",
    "period_acc = data['shot_made_flag'].groupby(data['period']).mean()\n",
    "period_acc.plot(kind='barh', figsize=(12, 6))"
   ]
  },
  {
   "cell_type": "markdown",
   "metadata": {
    "id": "nqh0gfa0-Te-"
   },
   "source": [
    "### combined_shot_type"
   ]
  },
  {
   "cell_type": "code",
   "execution_count": null,
   "metadata": {
    "id": "qA6FiAkI-Te-"
   },
   "outputs": [],
   "source": [
    "# combined_shot_type 에 따라 슛 count\n",
    "plt.figure(figsize=(12,6))\n",
    "sns.countplot(x=\"combined_shot_type\", hue=\"shot_made_flag\", data=data)"
   ]
  },
  {
   "cell_type": "code",
   "execution_count": null,
   "metadata": {
    "id": "kPUyr3Zy-Te_"
   },
   "outputs": [],
   "source": [
    "# shot_type_accuracy 파악\n",
    "shot_type_acc = data['shot_made_flag'].groupby(data['combined_shot_type']).mean()\n",
    "shot_type_acc.plot(kind='barh', figsize=(12, 6))"
   ]
  },
  {
   "cell_type": "markdown",
   "metadata": {
    "id": "Wb_F0faN-Te_"
   },
   "source": [
    "### action_type"
   ]
  },
  {
   "cell_type": "code",
   "execution_count": null,
   "metadata": {
    "id": "kAOqc_xX-Te_"
   },
   "outputs": [],
   "source": [
    "# action_type 에 따른 슛 count \n",
    "plt.figure(figsize=(12,18))\n",
    "sns.countplot(y=\"action_type\", hue=\"shot_made_flag\", data=data)"
   ]
  },
  {
   "cell_type": "code",
   "execution_count": null,
   "metadata": {
    "id": "JARXcKJw-Te_"
   },
   "outputs": [],
   "source": [
    "# action_type_accuracy\n",
    "action_type = data['shot_made_flag'].groupby(data['action_type']).mean()\n",
    "action_type.sort_values()\n",
    "\n",
    "action_type.sort_values().plot(kind='barh', figsize=(12, 18))"
   ]
  },
  {
   "cell_type": "markdown",
   "metadata": {
    "id": "OtJSbmjI-Te_"
   },
   "source": [
    "### season"
   ]
  },
  {
   "cell_type": "code",
   "execution_count": null,
   "metadata": {
    "id": "l4p60p3m-TfA"
   },
   "outputs": [],
   "source": [
    "# season 에 따른 슛 count\n",
    "# 2013년에는 부상으로 시즌아웃 예상 / 이처럼 EDA를 하다보면 새로운 사실 발견가능!\n",
    "plt.figure(figsize=(12,6))\n",
    "sns.countplot(x=\"season\", hue=\"shot_made_flag\", data=data)"
   ]
  },
  {
   "cell_type": "code",
   "execution_count": null,
   "metadata": {
    "id": "5gwz1qb2-TfA"
   },
   "outputs": [],
   "source": [
    "# season_accuracy 파악\n",
    "season_acc = data['shot_made_flag'].groupby(data['season']).mean()\n",
    "season_acc.plot(figsize=(12, 6), title='Accuracy over seasons')"
   ]
  },
  {
   "cell_type": "markdown",
   "metadata": {
    "id": "vqPc8nuo-TfA"
   },
   "source": [
    "### game_month"
   ]
  },
  {
   "cell_type": "code",
   "execution_count": null,
   "metadata": {
    "id": "eFf6Kq8_-TfA"
   },
   "outputs": [],
   "source": [
    "# game_month 에 따른 슛 count\n",
    "# 6월, 10월은 왜이리 적을까?? 찾아보세용~\n",
    "plt.figure(figsize=(12,6))\n",
    "sns.countplot(x=\"game_month\", hue=\"shot_made_flag\", data=data)"
   ]
  },
  {
   "cell_type": "code",
   "execution_count": null,
   "metadata": {
    "id": "tL9_JxV3-TfB"
   },
   "outputs": [],
   "source": [
    "# game_month_accuracy 파악\n",
    "game_month = data['shot_made_flag'].groupby(data['game_month']).mean()\n",
    "game_month.plot(kind='barh', figsize=(12, 6))"
   ]
  },
  {
   "cell_type": "markdown",
   "metadata": {
    "id": "YplA-1qN-TfB"
   },
   "source": [
    "### game_day ( 요일 )"
   ]
  },
  {
   "cell_type": "code",
   "execution_count": null,
   "metadata": {
    "id": "29hsgBFP-TfB"
   },
   "outputs": [],
   "source": [
    "# game_day 에 따른 슛 count\n",
    "plt.figure(figsize=(12,6))\n",
    "sns.countplot(x=\"game_day\", hue=\"shot_made_flag\", data=data)"
   ]
  },
  {
   "cell_type": "code",
   "execution_count": null,
   "metadata": {
    "id": "sBUGiI10-TfB"
   },
   "outputs": [],
   "source": [
    "# game_day_accuracy 를 파악\n",
    "game_day = data['shot_made_flag'].groupby(data['game_day']).mean()\n",
    "game_day.plot(kind='barh', figsize=(12, 6))"
   ]
  },
  {
   "cell_type": "markdown",
   "metadata": {
    "id": "-U8BbYNt-TfB"
   },
   "source": [
    "### playoff"
   ]
  },
  {
   "cell_type": "code",
   "execution_count": null,
   "metadata": {
    "id": "5fO4WAel-TfC"
   },
   "outputs": [],
   "source": [
    "# playoff 에 따른 슛 count\n",
    "plt.figure(figsize=(12,6))\n",
    "sns.countplot(x=\"playoffs\", hue=\"shot_made_flag\", data=data)"
   ]
  },
  {
   "cell_type": "code",
   "execution_count": null,
   "metadata": {
    "id": "_GrCUCFg-TfC"
   },
   "outputs": [],
   "source": [
    "# play_off_accuracy 를 파악\n",
    "playoffs = data['shot_made_flag'].groupby(data['playoffs']).mean()\n",
    "playoffs.plot(kind='barh', figsize=(12, 2), xlim=(0, 0.50))\n",
    "# 플레이오프라고 성공률이 떨어지지 않네요 대단한 선수에요 역시"
   ]
  },
  {
   "cell_type": "markdown",
   "metadata": {
    "id": "Qy1VwpVY-TfC"
   },
   "source": [
    "### shot_distance_"
   ]
  },
  {
   "cell_type": "code",
   "execution_count": null,
   "metadata": {
    "id": "DjyV5rtS-TfC"
   },
   "outputs": [],
   "source": [
    "# distance에 따라 구분하여 distance_categorical 을 만듬\n",
    "distance_bins = np.append(np.arange(0, 31, 3), 300) \n",
    "distance_cat = pd.cut(data['shot_distance_'], distance_bins, right=False)\n",
    "\n",
    "dist_data = data.loc[:, ['shot_distance_', 'shot_made_flag']]\n",
    "dist_data['distance_cat'] = distance_cat\n",
    "\n",
    "distance_cat.value_counts(sort=False)"
   ]
  },
  {
   "cell_type": "code",
   "execution_count": null,
   "metadata": {
    "id": "cxOajEA5-TfC"
   },
   "outputs": [],
   "source": [
    "plt.figure(figsize=(12,6))\n",
    "sns.countplot(x=\"distance_cat\", hue=\"shot_made_flag\", data=dist_data)\n",
    "# 어느정도 유의미하게 나누어진듯 합니다"
   ]
  },
  {
   "cell_type": "code",
   "execution_count": null,
   "metadata": {
    "id": "YamHiujV-TfD"
   },
   "outputs": [],
   "source": [
    "# distance_accuracy 를 파악\n",
    "dist_prec = dist_data['shot_made_flag'].groupby(dist_data['distance_cat']).mean()\n",
    "dist_prec.plot(kind='bar', figsize=(12, 6))"
   ]
  },
  {
   "cell_type": "markdown",
   "metadata": {
    "id": "1Kw_Zp19-TfD"
   },
   "source": [
    "### shot_zone_area"
   ]
  },
  {
   "cell_type": "code",
   "execution_count": null,
   "metadata": {
    "id": "JXsukH10-TfD"
   },
   "outputs": [],
   "source": [
    "# shot_zone_area 에 따른 슛 count\n",
    "plt.figure(figsize=(12,6))\n",
    "sns.countplot(x=\"shot_zone_area\", hue=\"shot_made_flag\", data=data)"
   ]
  },
  {
   "cell_type": "code",
   "execution_count": null,
   "metadata": {
    "id": "oop-sac_-TfD"
   },
   "outputs": [],
   "source": [
    "# shot_area_accuracy 를 파악\n",
    "shot_area = data['shot_made_flag'].groupby(data['shot_zone_area']).mean()\n",
    "shot_area.plot(kind='barh', figsize=(12, 6))"
   ]
  },
  {
   "cell_type": "markdown",
   "metadata": {
    "id": "3RIzsE_R-TfE"
   },
   "source": [
    "### shot_zone_basic"
   ]
  },
  {
   "cell_type": "code",
   "execution_count": null,
   "metadata": {
    "id": "g4ZgeFWJ-TfE"
   },
   "outputs": [],
   "source": [
    "# shot_zone_basic 에 따른 슛 count\n",
    "plt.figure(figsize=(12,6))\n",
    "sns.countplot(x=\"shot_zone_basic\", hue=\"shot_made_flag\", data=data)"
   ]
  },
  {
   "cell_type": "code",
   "execution_count": null,
   "metadata": {
    "id": "qQhZqaNG-TfE"
   },
   "outputs": [],
   "source": [
    "# shot_zone_accuracy 를 파악\n",
    "shot_basic = data['shot_made_flag'].groupby(data['shot_zone_basic']).mean()\n",
    "shot_basic.plot(kind='barh', figsize=(12, 6))"
   ]
  },
  {
   "cell_type": "markdown",
   "metadata": {
    "id": "FWUDakTa-TfE"
   },
   "source": [
    "### home_game"
   ]
  },
  {
   "cell_type": "code",
   "execution_count": null,
   "metadata": {
    "id": "VPmOL8BD-TfE"
   },
   "outputs": [],
   "source": [
    "# home_game 에 따른 슛 count\n",
    "plt.figure(figsize=(12,6))\n",
    "sns.countplot(x=\"home_game\", hue=\"shot_made_flag\", data=data)"
   ]
  },
  {
   "cell_type": "code",
   "execution_count": null,
   "metadata": {
    "id": "urRrXkTN-TfF"
   },
   "outputs": [],
   "source": [
    "# shot_basic_accuracy 파악\n",
    "shot_basic = data['shot_made_flag'].groupby(data['home_game']).mean()\n",
    "shot_basic.plot(kind='barh', figsize=(12, 2))"
   ]
  },
  {
   "cell_type": "markdown",
   "metadata": {
    "id": "ouSfya0v-TfF"
   },
   "source": [
    "### opponent"
   ]
  },
  {
   "cell_type": "code",
   "execution_count": null,
   "metadata": {
    "id": "IUkLSdpe-TfF",
    "scrolled": false
   },
   "outputs": [],
   "source": [
    "# opponent에 따른 슛 count\n",
    "plt.figure(figsize=(12,16))\n",
    "sns.countplot(y=\"opponent\", hue=\"shot_made_flag\", data=data)"
   ]
  },
  {
   "cell_type": "code",
   "execution_count": null,
   "metadata": {
    "id": "dsi-A-sg-TfF"
   },
   "outputs": [],
   "source": [
    "# opponent_accracy 를 파악\n",
    "opponent = data['shot_made_flag'].groupby(data['opponent']).mean()\n",
    "opponent.sort_values().plot(kind='barh', figsize=(12,10))"
   ]
  },
  {
   "cell_type": "markdown",
   "metadata": {
    "id": "EkseLn8V-TfG"
   },
   "source": [
    "# The End"
   ]
  },
  {
   "cell_type": "markdown",
   "metadata": {
    "id": "6AARsi05-TfG"
   },
   "source": [
    "## Appendix. Pandas Profiling"
   ]
  },
  {
   "cell_type": "code",
   "execution_count": null,
   "metadata": {
    "id": "vVP0htKZ-TfG",
    "scrolled": true
   },
   "outputs": [],
   "source": [
    "# !pip install pandas_profiling"
   ]
  },
  {
   "cell_type": "code",
   "execution_count": null,
   "metadata": {
    "id": "cEytudzb-TfG",
    "scrolled": true
   },
   "outputs": [],
   "source": [
    "import pandas_profiling"
   ]
  },
  {
   "cell_type": "code",
   "execution_count": null,
   "metadata": {
    "colab": {
     "referenced_widgets": [
      "848f6e48744746dda63381c7bfdb9d69"
     ]
    },
    "id": "ChR3xhC3-TfG",
    "outputId": "868628a8-28c1-4d8a-d949-7efb918cebad",
    "scrolled": true
   },
   "outputs": [],
   "source": [
    "pandas_profiling.ProfileReport(df)"
   ]
  },
  {
   "cell_type": "code",
   "execution_count": null,
   "metadata": {
    "id": "3l-ropTT-TfH"
   },
   "outputs": [],
   "source": []
  }
 ],
 "metadata": {
  "colab": {
   "collapsed_sections": [
    "c4kzOlUy-Tew",
    "3kxIBo8Y-Tex",
    "PKC7RnIX-Tex",
    "mPFrmFlf-Tey",
    "e8gpbfrl-Tez",
    "H84rxEGY-Te0",
    "pAuivMS0-Te1",
    "0MMXEccS-Te1",
    "lIq9d4jD-Te2",
    "eQTnNzBq-Te3",
    "L88c_gtq-Te4",
    "UPXOmap_-Te4",
    "xaaQMX4Y-Te8",
    "yoi0YNIm-Te9",
    "nqh0gfa0-Te-",
    "Wb_F0faN-Te_",
    "OtJSbmjI-Te_",
    "vqPc8nuo-TfA",
    "YplA-1qN-TfB",
    "-U8BbYNt-TfB",
    "Qy1VwpVY-TfC",
    "1Kw_Zp19-TfD",
    "3RIzsE_R-TfE",
    "FWUDakTa-TfE",
    "ouSfya0v-TfF"
   ],
   "name": "EDA&시각화_실습(kobe).ipynb",
   "provenance": []
  },
  "kernelspec": {
   "display_name": "Python 3",
   "language": "python",
   "name": "python3"
  },
  "language_info": {
   "codemirror_mode": {
    "name": "ipython",
    "version": 3
   },
   "file_extension": ".py",
   "mimetype": "text/x-python",
   "name": "python",
   "nbconvert_exporter": "python",
   "pygments_lexer": "ipython3",
   "version": "3.7.0"
  }
 },
 "nbformat": 4,
 "nbformat_minor": 1
}
